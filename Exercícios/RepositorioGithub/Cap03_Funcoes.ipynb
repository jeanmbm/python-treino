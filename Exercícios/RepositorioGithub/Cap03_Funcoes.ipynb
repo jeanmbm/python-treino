{
  "nbformat": 4,
  "nbformat_minor": 0,
  "metadata": {
    "colab": {
      "provenance": []
    },
    "kernelspec": {
      "name": "python3",
      "display_name": "Python 3"
    },
    "language_info": {
      "name": "python"
    }
  },
  "cells": [
    {
      "cell_type": "markdown",
      "source": [
        "### Exercícios - Métodos e Funções"
      ],
      "metadata": {
        "id": "YQEIS2LFfkKJ"
      }
    },
    {
      "cell_type": "markdown",
      "source": [
        "Exercício 1 - Crie uma função que imprima a sequência de números pares entre 1 e 20 (a função não recebe parâmetro) e depois faça uma chamada à função para listar os números     "
      ],
      "metadata": {
        "id": "cOt4j-1BW-Lr"
      }
    },
    {
      "cell_type": "code",
      "source": [
        "def imprimeSequencia():\n",
        "  for i in range(2, 21, 2):\n",
        "    print(i)\n",
        "\n",
        "imprimeSequencia()"
      ],
      "metadata": {
        "id": "ZY-xG15DeOum"
      },
      "execution_count": null,
      "outputs": []
    },
    {
      "cell_type": "markdown",
      "source": [
        "\n",
        "Exercício 2 - Crie uma função que receba uma string como argumento e retorne a mesma string em letras maiúsculas. Faça uma chamada à função, passando como parâmetro uma string"
      ],
      "metadata": {
        "id": "cbSi36A7XHaF"
      }
    },
    {
      "cell_type": "code",
      "source": [
        "def upperCase(palavra):\n",
        "  return palavra.upper()\n",
        "\n",
        "palavra = upperCase('palavra')\n",
        "print(palavra)"
      ],
      "metadata": {
        "id": "KdSCTwZ6eO_u"
      },
      "execution_count": null,
      "outputs": []
    },
    {
      "cell_type": "markdown",
      "source": [
        "Exercício 3 - Crie uma função que receba como parâmetro uma lista de 4 elementos, adicione 2 elementos a lista e imprima a lista"
      ],
      "metadata": {
        "id": "PE7W7-S3XF9H"
      }
    },
    {
      "cell_type": "code",
      "source": [
        "def adicionaElementoLista(lista):\n",
        "  lista.append(15)\n",
        "  lista.append(4686)\n",
        "\n",
        "lista = [1, 26, 465, 69269]\n",
        "print(lista)\n",
        "adicionaElementoLista(lista)\n",
        "print(lista)"
      ],
      "metadata": {
        "id": "6fGTuG8mePY-"
      },
      "execution_count": null,
      "outputs": []
    },
    {
      "cell_type": "markdown",
      "source": [
        "Exercício 4 - Crie uma função que receba um argumento formal e uma possível lista de elementos. Faça duas chamadas à função, com apenas 1 elemento e na segunda chamada com 4 elementos"
      ],
      "metadata": {
        "id": "_0r0ZF_IXFsX"
      }
    },
    {
      "cell_type": "code",
      "source": [
        "def funcao(arg1, *args):\n",
        "  print(arg1)\n",
        "  for arg in args:\n",
        "    print(arg)\n",
        "  return\n",
        "\n",
        "funcao('teste')\n",
        "funcao('teste', 'teste2', 'teste3')"
      ],
      "metadata": {
        "id": "vA4b-oRNeP1m"
      },
      "execution_count": null,
      "outputs": []
    },
    {
      "cell_type": "markdown",
      "source": [
        "Exercício 5 - Crie uma função anônima e atribua seu retorno a uma variável chamada soma. A expressão vai receber 2 números como parâmetro e retornar a soma deles"
      ],
      "metadata": {
        "id": "ZTIeYezbXFgP"
      }
    },
    {
      "cell_type": "code",
      "source": [
        "soma = lambda arg1, arg2: arg1 + arg2\n",
        "print('A soma é igual a {}'.format(soma(1, 2)))"
      ],
      "metadata": {
        "id": "HKv7xhmSeQMP"
      },
      "execution_count": null,
      "outputs": []
    },
    {
      "cell_type": "markdown",
      "source": [
        "Exercício 6 - Execute o código abaixo e certifique-se que compreende a diferença entre variável global e local\n",
        "```\n",
        "total = 0\n",
        "def soma( arg1, arg2 ):\n",
        "    total = arg1 + arg2; \n",
        "    print (\"Dentro da função o total é: \", total)\n",
        "    return total;\n",
        "\n",
        "\n",
        "soma( 10, 20 );\n",
        "print (\"Fora da função o total é: \", total)\n",
        "```"
      ],
      "metadata": {
        "id": "umN_rmAkXFY4"
      }
    },
    {
      "cell_type": "code",
      "source": [
        "total = 0\n",
        "def soma( arg1, arg2 ):\n",
        "    total = arg1 + arg2; \n",
        "    print (\"Dentro da função o total é: \", total)\n",
        "    return total;\n",
        "\n",
        "\n",
        "soma( 10, 20 );\n",
        "print (\"Fora da função o total é: \", total)"
      ],
      "metadata": {
        "id": "1lzhWPieytQX"
      },
      "execution_count": null,
      "outputs": []
    },
    {
      "cell_type": "markdown",
      "source": [
        "Exercício 7 - Abaixo você encontra uma lista com temperaturas em graus Celsius. Crie uma função anônima que converta cada temperatura para Fahrenheit.\n",
        "<br>\n",
        "Dica: para conseguir realizar este exercício, você deve criar sua função lambda, dentro de uma função \n",
        "(que será estudada no próximo capítulo). Isso permite aplicar sua função a cada elemento da lista\n",
        "<br>\n",
        "Como descobrir a fórmula matemática que converte de Celsius para Fahrenheit? Pesquise!!!\n",
        "```\n",
        "Celsius = [39.2, 36.5, 37.3, 37.8]\n",
        "Fahrenheit = map(coloque_aqui_sua_função_lambda)\n",
        "print (list(Fahrenheit))\n",
        "```"
      ],
      "metadata": {
        "id": "dK_obvlfXFRZ"
      }
    },
    {
      "cell_type": "code",
      "source": [
        "Celsius = [39.2, 36.5, 37.3, 37.8]\n",
        "Fahrenheit = map(lambda temperatura: temperatura * 1.8 + 32, Celsius)\n",
        "print (list(Fahrenheit))"
      ],
      "metadata": {
        "id": "r3v1jpIAzIA5"
      },
      "execution_count": null,
      "outputs": []
    },
    {
      "cell_type": "markdown",
      "source": [
        "Exercício 8 - Crie um dicionário e liste todos os métodos e atributos do dicionário"
      ],
      "metadata": {
        "id": "l1OAa2aGXFIA"
      }
    },
    {
      "cell_type": "code",
      "source": [
        "dicionario = {}\n",
        "dir(dicionario)"
      ],
      "metadata": {
        "id": "M6jGGAv6eQym"
      },
      "execution_count": null,
      "outputs": []
    },
    {
      "cell_type": "markdown",
      "source": [
        "Exercício 9 - Abaixo você encontra a importação do Pandas, um dos principais pacotes Python para análise de dados. Analise atentamente todos os métodos disponíveis. Um deles você vai usar no próximo exercício.\n",
        "```\n",
        "import pandas as pd\n",
        "dir(pd)\n",
        "```"
      ],
      "metadata": {
        "id": "7LpItIOnXE3P"
      }
    },
    {
      "cell_type": "code",
      "source": [
        "import pandas as pd\n",
        "dir(pd)"
      ],
      "metadata": {
        "id": "p0XGvDCTfDON"
      },
      "execution_count": null,
      "outputs": []
    },
    {
      "cell_type": "markdown",
      "source": [
        "************* Desafio ************* (pesquise na documentação Python)\n",
        "\n",
        "Exercício 10 - Crie uma função que receba o arquivo abaixo como argumento e retorne um resumo estatístico descritivo do arquivo. Dica, use Pandas e um de seus métodos, describe()\n",
        "<br>\n",
        "Arquivo: \"binary.csv\"\n",
        "\n",
        "```\n",
        "import pandas as pd\n",
        "file_name = \"binary.csv\"\n",
        "```\n"
      ],
      "metadata": {
        "id": "Rde2fqI1XEnw"
      }
    },
    {
      "cell_type": "code",
      "source": [],
      "metadata": {
        "id": "FlmjipDRfC39"
      },
      "execution_count": null,
      "outputs": []
    }
  ]
}