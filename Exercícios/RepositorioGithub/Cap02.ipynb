{
  "cells": [
    {
      "cell_type": "markdown",
      "metadata": {
        "id": "UEYzxL_rNok9"
      },
      "source": [
        "###Assuntos: números, variáveis, strings, listas, dicionários, tuplas"
      ]
    },
    {
      "cell_type": "markdown",
      "metadata": {
        "id": "heO65LG3NMgl"
      },
      "source": [
        "Exercício 1 - Imprima na tela os números de 1 a 10. Use uma lista para armazenar os números."
      ]
    },
    {
      "cell_type": "code",
      "execution_count": null,
      "metadata": {
        "id": "N4aL-1PSNKDs"
      },
      "outputs": [],
      "source": [
        "lista = [1, 2, 3, 4, 5, 6, 7, 8, 9, 10]\n",
        "print(lista)"
      ]
    },
    {
      "cell_type": "markdown",
      "metadata": {
        "id": "PHxzklbvNelv"
      },
      "source": [
        "Exercício 2 - Crie uma lista de 5 objetos e imprima na tela"
      ]
    },
    {
      "cell_type": "code",
      "execution_count": null,
      "metadata": {
        "id": "1K6pA_azNdSL"
      },
      "outputs": [],
      "source": [
        "lista = ['arroz', 'feijão', 'macarrão', 'batata', 'carne']\n",
        "print(lista)"
      ]
    },
    {
      "cell_type": "markdown",
      "metadata": {
        "id": "4_6TIbhqNfBO"
      },
      "source": [
        "Exercício 3 - Crie duas strings e concatene as duas em uma terceira string"
      ]
    },
    {
      "cell_type": "code",
      "execution_count": 16,
      "metadata": {
        "colab": {
          "base_uri": "https://localhost:8080/"
        },
        "id": "4AGwqjpSNXHz",
        "outputId": "281f35c5-a86a-4af9-c0da-4f5c37a55740"
      },
      "outputs": [
        {
          "name": "stdout",
          "output_type": "stream",
          "text": [
            "Muito \n",
            "Bom Dia\n",
            "Muito Bom Dia\n"
          ]
        }
      ],
      "source": [
        "string1, string2 = 'Muito ', 'Bom Dia'\n",
        "string3 = string1 + string2\n",
        "\n",
        "print(string1)\n",
        "print(string2)\n",
        "print(string3)"
      ]
    },
    {
      "cell_type": "markdown",
      "metadata": {
        "id": "OdGGbk3KOpu8"
      },
      "source": [
        " Exercício 4 - Crie uma tupla com os seguintes elementos: 1, 2, 2, 3, 4, 4, 4, 5 e depois utilize a função count do objeto tupla para verificar quantas vezes o número 4 aparece na tupla"
      ]
    },
    {
      "cell_type": "code",
      "execution_count": null,
      "metadata": {
        "id": "TFyqttwxPNGp"
      },
      "outputs": [],
      "source": [
        "tupla = (1, 2, 2, 3, 4, 4, 4, 5)\n",
        "tupla.count(4)"
      ]
    },
    {
      "cell_type": "markdown",
      "metadata": {
        "id": "4CvNcb1YOtys"
      },
      "source": [
        "Exercício 5 - Crie um dicionário vazio e imprima na tela"
      ]
    },
    {
      "cell_type": "code",
      "execution_count": null,
      "metadata": {
        "id": "GNnKaVDvPNgg"
      },
      "outputs": [],
      "source": [
        "dicionario_vazio = {}\n",
        "print(dicionario_vazio)"
      ]
    },
    {
      "cell_type": "markdown",
      "metadata": {
        "id": "DyuEQ-d_Otm-"
      },
      "source": [
        "Exercício 6 - Crie um dicionário com 3 chaves e 3 valores e imprima na tela"
      ]
    },
    {
      "cell_type": "code",
      "execution_count": null,
      "metadata": {
        "id": "VFisPfkLO6DS"
      },
      "outputs": [],
      "source": [
        "dicionario = {'chave1': 'valor1', 'chave2': 50, 'chave3': [1, 2, 3, 4]}\n",
        "print(dicionario)"
      ]
    },
    {
      "cell_type": "markdown",
      "metadata": {
        "id": "WsSufD1fOtcC"
      },
      "source": [
        "Exercício 7 - Adicione mais um elemento ao dicionário criado no exercício anterior e imprima na tela"
      ]
    },
    {
      "cell_type": "code",
      "execution_count": null,
      "metadata": {
        "id": "f9gQ_oqaPN_Y"
      },
      "outputs": [],
      "source": [
        "dicionario.update({'outraChave': (5, 'batatas', '2.85')})\n",
        "print(dicionario)"
      ]
    },
    {
      "cell_type": "markdown",
      "metadata": {
        "id": "_iEl_ry3OtNj"
      },
      "source": [
        "Exercício 8 - Crie um dicionário com 3 chaves e 3 valores. Um dos valores deve ser uma lista de 2 elementos numéricos. \n",
        "Imprima o dicionário na tela."
      ]
    },
    {
      "cell_type": "code",
      "execution_count": null,
      "metadata": {
        "id": "x7QxDH2RPOWf"
      },
      "outputs": [],
      "source": [
        "dicionarioComLista = {'elemento': 'Texto Qualquer', 'lista': [1564786, 2], 'tupla': tupla}\n",
        "print(dicionarioComLista)"
      ]
    },
    {
      "cell_type": "markdown",
      "metadata": {
        "id": "e8t7wdKuOs4s"
      },
      "source": [
        "Exercício 9 - Crie uma lista de 4 elementos. O primeiro elemento deve ser uma string, o segundo uma tupla de 2 elementos, o terceiro um dcionário com 2 chaves e 2 valores e o quarto elemento um valor do tipo float.\n",
        "Imprima a lista na tela."
      ]
    },
    {
      "cell_type": "code",
      "execution_count": 12,
      "metadata": {
        "colab": {
          "base_uri": "https://localhost:8080/"
        },
        "id": "oJKsD0l5POsy",
        "outputId": "554db297-1110-44b2-a35d-3bf19360434d"
      },
      "outputs": [
        {
          "name": "stdout",
          "output_type": "stream",
          "text": [
            "['string', ([1, 2, 3, 4, 5, 6, 7, 8, 9, 10], {}), {'elemento1': 8, 'elemento2': 'Muito Bom Dia'}, 12345.8558]\n"
          ]
        }
      ],
      "source": [
        "listaEx9 = ['string', (lista, dicionario_vazio), {'elemento1': 8, 'elemento2': string3}, 12345.8558]\n",
        "print(listaEx9)"
      ]
    },
    {
      "cell_type": "markdown",
      "metadata": {
        "id": "6MRlpbuzOsfk"
      },
      "source": [
        "Exercício 10 - Considere a string abaixo. Imprima na tela apenas os caracteres da posição 1 a 18.\n",
        "\n",
        "*   frase = 'Cientista de Dados é o profissional mais sexy do século XXI'\n",
        "\n"
      ]
    },
    {
      "cell_type": "code",
      "execution_count": 17,
      "metadata": {
        "colab": {
          "base_uri": "https://localhost:8080/",
          "height": 35
        },
        "id": "ox5XPSjdPPFS",
        "outputId": "64dc92ee-2dfb-4f34-b82b-a8f4d08b4ff5"
      },
      "outputs": [
        {
          "data": {
            "application/vnd.google.colaboratory.intrinsic+json": {
              "type": "string"
            },
            "text/plain": [
              "'Cientista de Dados'"
            ]
          },
          "execution_count": 17,
          "metadata": {},
          "output_type": "execute_result"
        }
      ],
      "source": [
        "frase = 'Cientista de Dados é o profissional mais sexy do século XXI'\n",
        "frase[0:18]"
      ]
    }
  ],
  "metadata": {
    "colab": {
      "provenance": []
    },
    "kernelspec": {
      "display_name": "Python 3",
      "language": "python",
      "name": "python3"
    },
    "language_info": {
      "name": "python",
      "version": "3.8.16 (default, Jan  6 2023, 15:21:54) \n[GCC 9.4.0]"
    },
    "vscode": {
      "interpreter": {
        "hash": "9ac03a0a6051494cc606d484d27d20fce22fb7b4d169f583271e11d5ba46a56e"
      }
    }
  },
  "nbformat": 4,
  "nbformat_minor": 0
}
