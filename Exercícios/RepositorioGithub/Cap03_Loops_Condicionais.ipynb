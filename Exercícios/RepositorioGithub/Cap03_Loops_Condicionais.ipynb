{
  "cells": [
    {
      "cell_type": "markdown",
      "metadata": {
        "id": "3E1efy9Pf-t-"
      },
      "source": [
        "### Exercícios - Loops e Condicionais\n"
      ]
    },
    {
      "cell_type": "markdown",
      "metadata": {
        "id": "DIubatUKgXn2"
      },
      "source": [
        "Exercício 1 - Crie uma estrutura que pergunte ao usuário qual o dia da semana. Se o dia for igual a Domingo ou igual a sábado, imprima na tela: \"Hoje é dia de descanso\", caso contrário imprima na tela \"Você precisa trabalhar!\"\n"
      ]
    },
    {
      "cell_type": "code",
      "execution_count": null,
      "metadata": {
        "id": "1s1R4B6WgXhu"
      },
      "outputs": [],
      "source": [
        "dia_semana = input('Informe o dia da semana de hoje: ')\n",
        "\n",
        "if dia_semana.lower() == 'sábado' or dia_semana.lower() == 'domingo':\n",
        "  print('Hoje é dia de descanso') \n",
        "else:\n",
        "  print('Você precisa trabalhar!')"
      ]
    },
    {
      "cell_type": "markdown",
      "metadata": {
        "id": "rsdrDgPSgXbm"
      },
      "source": [
        "Exercício 2 - Crie uma lista de 5 frutas e verifique se a fruta 'Morango' faz parte da lista"
      ]
    },
    {
      "cell_type": "code",
      "execution_count": null,
      "metadata": {
        "id": "fTeKO05OgXVv"
      },
      "outputs": [],
      "source": [
        "frutas = ['uva', 'mamão', 'fruta do dragão', 'morango', 'maçã']\n",
        "print('morango' in frutas)\n",
        "\n",
        "frutas = ['uva', 'mamão', 'fruta do dragão', 'jaca', 'maçã']\n",
        "print('morango' in frutas)"
      ]
    },
    {
      "cell_type": "markdown",
      "metadata": {
        "id": "ZOeGUD75gXO8"
      },
      "source": [
        "Exercício 3 - Crie uma tupla de 4 elementos, multiplique cada elemento da tupla por 2 e guarde os resultados em uma lista"
      ]
    },
    {
      "cell_type": "code",
      "execution_count": null,
      "metadata": {
        "id": "dvUYft4UgXJW"
      },
      "outputs": [],
      "source": [
        "tupla = (1, 59, 484, 356646)\n",
        "lista = []\n",
        "\n",
        "for n in tupla:\n",
        "  lista.append(n * 2)\n",
        "\n",
        "print(tupla)\n",
        "print(lista)"
      ]
    },
    {
      "cell_type": "markdown",
      "metadata": {
        "id": "543wdPW9gXCA"
      },
      "source": [
        "Exercício 4 - Crie uma sequência de números pares entre 100 e 150 e imprima na tela"
      ]
    },
    {
      "cell_type": "code",
      "execution_count": null,
      "metadata": {
        "id": "fczzk6yzgW8e"
      },
      "outputs": [],
      "source": [
        "lista = []\n",
        "\n",
        "for i in range(100, 151, 2):\n",
        "  lista.append(i)\n",
        "\n",
        "print(lista)"
      ]
    },
    {
      "cell_type": "markdown",
      "metadata": {
        "id": "xNjGJd6ogW0u"
      },
      "source": [
        "Exercício 5 - Crie uma variável chamada temperatura e atribua o valor 40. Enquanto temperatura for maior que 35, imprima as temperaturas na tela"
      ]
    },
    {
      "cell_type": "code",
      "execution_count": null,
      "metadata": {
        "id": "N3S2p-5tgWuX"
      },
      "outputs": [],
      "source": [
        "temperatura = 40\n",
        "while temperatura > 35:\n",
        "  print(temperatura)\n",
        "  temperatura -= 1"
      ]
    },
    {
      "cell_type": "markdown",
      "metadata": {
        "id": "UkIIezm4gWmf"
      },
      "source": [
        "Exercício 6 - Crie uma variável chamada contador = 0. Enquanto counter for menor que 100, imprima os valores na tela, mas quando for encontrado o valor 23, interrompa a execução do programa"
      ]
    },
    {
      "cell_type": "code",
      "execution_count": null,
      "metadata": {
        "id": "H_3wStR0gWKP"
      },
      "outputs": [],
      "source": [
        "contador = 0\n",
        "\n",
        "while contador < 100:\n",
        "  if contador == 23:\n",
        "    break\n",
        "  print(contador)\n",
        "  contador += 1"
      ]
    },
    {
      "cell_type": "markdown",
      "metadata": {
        "id": "mi1mBxDIgWEA"
      },
      "source": [
        "Exercício 7 - Crie uma lista vazia e uma variável com valor 4. Enquanto o valor da variável for menor ou igual a 20, adicione à lista, apenas os valores pares e imprima a lista"
      ]
    },
    {
      "cell_type": "code",
      "execution_count": 21,
      "metadata": {
        "colab": {
          "base_uri": "https://localhost:8080/"
        },
        "id": "6eDNym11gV-W",
        "outputId": "6ad6c433-7e37-4077-9c03-7069bc40f443"
      },
      "outputs": [
        {
          "name": "stdout",
          "output_type": "stream",
          "text": [
            "[4, 6, 8, 10, 12, 14, 16, 18, 20]\n"
          ]
        }
      ],
      "source": [
        "lista = []\n",
        "valor = 4\n",
        "\n",
        "while valor <= 20:\n",
        "  if (valor % 2) == 0:\n",
        "    lista.append(valor)\n",
        "  valor += 1\n",
        "\n",
        "print(lista)"
      ]
    },
    {
      "cell_type": "markdown",
      "metadata": {
        "id": "B75-TnxpgV1f"
      },
      "source": [
        "Exercício 8 - Transforme o resultado desta função range em uma lista: range(5, 45, 2)\n",
        "```\n",
        "nums = range(5, 45, 2)\n",
        "```\n",
        "\n"
      ]
    },
    {
      "cell_type": "code",
      "execution_count": null,
      "metadata": {
        "id": "2Em0ziFygVsP"
      },
      "outputs": [],
      "source": [
        "nums = list()\n",
        "\n",
        "for i in range(5, 45, 2):\n",
        "  nums.append(i)\n",
        "\n",
        "print(nums)"
      ]
    },
    {
      "cell_type": "markdown",
      "metadata": {
        "id": "F6NhnggugViH"
      },
      "source": [
        "Exercício 9 - Faça a correção dos erros no código abaixo e execute o programa. Dica: são 3 erros.\n",
        "```\n",
        "temperatura = float(input('Qual a temperatura? '))\n",
        "if temperatura > 30\n",
        "print('Vista roupas leves.')\n",
        "else\n",
        "    print('Busque seus casacos.')\n",
        "```\n",
        "\n"
      ]
    },
    {
      "cell_type": "code",
      "execution_count": null,
      "metadata": {
        "id": "V1yp7awEgVbB"
      },
      "outputs": [],
      "source": [
        "temperatura = float(input('Qual a temperatura? '))\n",
        "\n",
        "if temperatura > 30:\n",
        "  print('Vista roupas leves.')\n",
        "else:\n",
        "  print('Busque seus casacos.')"
      ]
    },
    {
      "cell_type": "markdown",
      "metadata": {
        "id": "rE5dqOXwgVJ_"
      },
      "source": [
        "Exercício 10 - Faça um programa que conte quantas vezes a letra \"r\" aparece na frase abaixo. Use um placeholder na sua instrução de impressão\n",
        "<br>\n",
        "“É melhor, muito melhor, contentar-se com a realidade; se ela não é tão brilhante como os sonhos, tem pelo menos a vantagem de existir.” \n",
        "<br>\n",
        "(Machado de Assis)\n",
        "```\n",
        "frase = \"É melhor, muito melhor, contentar-se com a realidade; se ela não é tão brilhante como os sonhos, tem pelo menos a vantagem de existir.\"\n",
        "```"
      ]
    },
    {
      "cell_type": "code",
      "execution_count": null,
      "metadata": {
        "id": "AN97bVaXgVAI"
      },
      "outputs": [],
      "source": [
        "frase = \"É melhor, muito melhor, contentar-se com a realidade; se ela não é tão brilhante como os sonhos, tem pelo menos a vantagem de existir.\"\n",
        "\n",
        "count = 0\n",
        "for i in frase:\n",
        "    if i == 'r':\n",
        "        count += 1\n",
        "\n",
        "print(\"O caracter r aparece {} vezes na frase.\".format(count))"
      ]
    }
  ],
  "metadata": {
    "colab": {
      "provenance": []
    },
    "kernelspec": {
      "display_name": "Python 3",
      "name": "python3"
    },
    "language_info": {
      "name": "python"
    }
  },
  "nbformat": 4,
  "nbformat_minor": 0
}
